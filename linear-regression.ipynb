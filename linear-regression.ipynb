{
 "cells": [
  {
   "cell_type": "markdown",
   "id": "5d317bd7",
   "metadata": {},
   "source": [
    "# Building a Linear Regression Model from Scratch\n",
    "The objectives of this project are to build a linear regression model using gradient descent and evaluate its performance on both synthetic and real datasets."
   ]
  },
  {
   "cell_type": "markdown",
   "id": "c5d0f857",
   "metadata": {},
   "source": [
    "### Load dependencies and create synthetic data\n",
    "Generate 100 single-feature samples from $y = 3x + 4$ with noise. Target weights are ```(4, 3)```."
   ]
  },
  {
   "cell_type": "code",
   "execution_count": 221,
   "id": "bd47b310",
   "metadata": {},
   "outputs": [
    {
     "data": {
      "image/png": "[encoded data removed]",
      "text/plain": [
       "<Figure size 640x480 with 1 Axes>"
      ]
     },
     "metadata": {},
     "output_type": "display_data"
    }
   ],
   "source": [
    "import numpy as np\n",
    "import matplotlib.pyplot as plt\n",
    "\n",
    "np.random.seed(0)\n",
    "X = 2 * np.random.rand(100, 1)\n",
    "y = 4 + 3 * X.flatten() + np.random.randn(100)\n",
    "\n",
    "plt.scatter(X, y)\n",
    "plt.xlabel(\"x\")\n",
    "plt.ylabel(\"y\")\n",
    "plt.show()"
   ]
  },
  {
   "cell_type": "markdown",
   "id": "b151b979",
   "metadata": {},
   "source": [
    "Verify the shapes of arrays ```X``` and ```y```:"
   ]
  },
  {
   "cell_type": "code",
   "execution_count": 222,
   "id": "ad6eb21b",
   "metadata": {},
   "outputs": [
    {
     "name": "stdout",
     "output_type": "stream",
     "text": [
      "X: (100, 1)\n",
      "y: (100,)\n"
     ]
    }
   ],
   "source": [
    "print(f\"X: {X.shape}\")\n",
    "print(f\"y: {y.shape}\")"
   ]
  },
  {
   "cell_type": "markdown",
   "id": "8598bed4",
   "metadata": {},
   "source": [
    "### Initialization function\n",
    "From feature matrix ```X```, return an initialized weight vector, and augment ```X``` with a column of ones for the intercept (bias) term."
   ]
  },
  {
   "cell_type": "code",
   "execution_count": 223,
   "id": "95cec807",
   "metadata": {},
   "outputs": [
    {
     "name": "stdout",
     "output_type": "stream",
     "text": [
      "w: (2,)\n",
      "X_bias: (100, 2)\n"
     ]
    }
   ],
   "source": [
    "def init(X):\n",
    "    X_bias = np.c_[np.ones(X.shape[0]), X] # prepend ones column: bias trick\n",
    "    weights = np.zeros(X_bias.shape[1]) # weights including bias initialized to zero. shape: (# of features + 1,)\n",
    "    return weights, X_bias\n",
    "\n",
    "w, X_bias = init(X)\n",
    "print(f\"w: {w.shape}\")\n",
    "print(f\"X_bias: {X_bias.shape}\")"
   ]
  },
  {
   "cell_type": "markdown",
   "id": "a12db61a",
   "metadata": {},
   "source": [
    "### Prediction function\n",
    "Then, predict for ```y``` using ```X_bias``` and ```w```."
   ]
  },
  {
   "cell_type": "code",
   "execution_count": 224,
   "id": "7e4ff503",
   "metadata": {},
   "outputs": [],
   "source": [
    "def predict_y(X, weights):\n",
    "    return np.matmul(X, weights) # matrix multiplication; shape becomes (n,)\n",
    "\n",
    "# w = np.array([4,3])\n",
    "# print(predict_y(X_bias, w))"
   ]
  },
  {
   "cell_type": "markdown",
   "id": "aabbc90c",
   "metadata": {},
   "source": [
    "### Cost function (mean squared error)\n",
    "Using vectorized operations, compute the squared differences between the predicted (```predict_y(X, weights)```) and actual values (```y```) for each sample, then return the average of these differences as the loss."
   ]
  },
  {
   "cell_type": "code",
   "execution_count": 225,
   "id": "62ac8de1",
   "metadata": {},
   "outputs": [],
   "source": [
    "def cost_function(X, y, weights):\n",
    "    y_predicted = predict_y(X, weights)\n",
    "    return np.mean((y_predicted - y) ** 2) # average loss, a single value"
   ]
  },
  {
   "cell_type": "markdown",
   "id": "a4d3ee14",
   "metadata": {},
   "source": [
    "### Computing gradients\n",
    "Calculate how much the output of the aforementioned cost function (average loss per sample) changes with respect to ```weights```.\n",
    "\n",
    "Computing the gradient = finding the partial derivative of the cost function with respect to ```weights```, or the average gradient per sample."
   ]
  },
  {
   "cell_type": "code",
   "execution_count": 226,
   "id": "fa13a06a",
   "metadata": {},
   "outputs": [
    {
     "name": "stdout",
     "output_type": "stream",
     "text": [
      "(2,)\n"
     ]
    }
   ],
   "source": [
    "def compute_gradients(X, y, weights):\n",
    "    y_predicted = predict_y(X, weights) # y_prediction is the product of X and weights\n",
    "\n",
    "    # observe then: power rule prepends the 2 coefficient, and chain rule upon y_prediction prepends the X coefficient\n",
    "    gradients_of_error = 2 * np.matmul(X.T, (y_predicted - y)) # transpose X for multiplication to work\n",
    "    # this product is a vector where each element sums over all samples' contributions for a respective weight.\n",
    "\n",
    "    # divide each element by the number of samples to get average gradient per sample:\n",
    "    return gradients_of_error / len(y)\n",
    "\n",
    "print(compute_gradients(X_bias, y, w).shape)"
   ]
  },
  {
   "cell_type": "markdown",
   "id": "c705e75d",
   "metadata": {},
   "source": [
    "### Implementation of gradient descent\n",
    "In order to reduce the error, ```weights``` should be updated according to the computed gradients and learning rate."
   ]
  },
  {
   "cell_type": "code",
   "execution_count": 227,
   "id": "533e65de",
   "metadata": {},
   "outputs": [],
   "source": [
    "def gradient_descent(X, y, weights, learning_rate):\n",
    "    weights -= learning_rate * compute_gradients(X, y, weights)"
   ]
  },
  {
   "cell_type": "markdown",
   "id": "383228e2",
   "metadata": {},
   "source": [
    "Final linear regression model recovers weights ```(4.22, 2.97)```, closely approximating target values ```(4, 3)``` despite noise in the data."
   ]
  },
  {
   "cell_type": "code",
   "execution_count": 228,
   "id": "6d02f773",
   "metadata": {},
   "outputs": [
    {
     "data": {
      "image/png": "[encoded data removed]",
      "text/plain": [
       "<Figure size 640x480 with 1 Axes>"
      ]
     },
     "metadata": {},
     "output_type": "display_data"
    },
    {
     "name": "stdout",
     "output_type": "stream",
     "text": [
      "w: [4.222151   2.96846758]\n"
     ]
    }
   ],
   "source": [
    "learning_rate = 0.05\n",
    "iterations = 1000\n",
    "\n",
    "w, X_bias = init(X)\n",
    "for _ in range(iterations):\n",
    "    gradient_descent(X_bias, y, w, learning_rate)\n",
    "\n",
    "plt.scatter(X, y, label=\"Actual Data\")\n",
    "plt.plot(X, X_bias.dot(w), color=\"red\", label=\"Optimized Line with Gradient Descent\")\n",
    "plt.title(\"Linear Regression With Gradient Descent\")\n",
    "plt.legend()\n",
    "plt.xlabel(\"x\")\n",
    "plt.ylabel(\"y\")\n",
    "plt.show()\n",
    "\n",
    "print(f\"w: {w}\")"
   ]
  },
  {
   "cell_type": "markdown",
   "id": "8162f048",
   "metadata": {},
   "source": [
    "### Testing on more data\n",
    "Constructed as a reusable class, the model is effective at fitting a linear relationship on the aforementioned synthetic data:"
   ]
  },
  {
   "cell_type": "code",
   "execution_count": 229,
   "id": "853b345a",
   "metadata": {},
   "outputs": [
    {
     "name": "stdout",
     "output_type": "stream",
     "text": [
      "On input x = 1, predicted value y = [7.19061858] should approximate 7\n",
      "On input x = 3, predicted value y = [13.12755374] should approximate 13\n",
      "On input x = 10, predicted value y = [33.90682681] should approximate 34\n",
      "On input x = 50, predicted value y = [152.64553007] should approximate 154\n",
      "intercept: 4.222150997691829, coefficient(s): [2.96846758]\n"
     ]
    }
   ],
   "source": [
    "class LinearRegressor():\n",
    "    def __init__(self, learning_rate=0.05, iterations=1000):\n",
    "        self.learning_rate = learning_rate\n",
    "        self.iterations = iterations\n",
    "\n",
    "    def fit(self, X, y):\n",
    "        X_bias = np.c_[np.ones(X.shape[0]), X] # bias trick\n",
    "        self.weights_ = np.zeros(X_bias.shape[1]) # initialized weights\n",
    "        \n",
    "        for _ in range(self.iterations): # gradient descent\n",
    "            y_predicted = np.matmul(X_bias, self.weights_)\n",
    "            gradients_of_error = 2 * np.matmul(X_bias.T, (y_predicted - y)) / len(y)\n",
    "            self.weights_ -= self.learning_rate * gradients_of_error\n",
    "\n",
    "        # for convenient access\n",
    "        self.intercept_ = self.weights_[0]\n",
    "        self.coef_ = self.weights_[1:]\n",
    "\n",
    "    def predict(self, X):\n",
    "        if X.ndim == 1:\n",
    "            # single sample: bias trick and dot product\n",
    "            X_bias = np.insert(X, 0, 1)  # 1D array with bias prepended\n",
    "            return np.dot(X_bias, self.weights_)\n",
    "        else:\n",
    "            # multiple samples: bias column trick and matrix multiply\n",
    "            X_bias = np.c_[np.ones(X.shape[0]), X]\n",
    "            return np.matmul(X_bias, self.weights_)\n",
    "\n",
    "model = LinearRegressor()\n",
    "model.fit(X, y)\n",
    "for input_x in [1, 3, 10, 50]:\n",
    "    predicted_y = model.predict(np.array([[input_x]]))\n",
    "    print(f\"On input x = {input_x}, predicted value y = {predicted_y} should approximate {3 * input_x + 4}\")\n",
    "print(f\"intercept: {model.intercept_}, coefficient(s): {model.coef_}\")"
   ]
  },
  {
   "cell_type": "markdown",
   "id": "4c12468f",
   "metadata": {},
   "source": [
    "Using ```make_regression``` to generate synthetic data, we can test the model's ability to fit an unknown linear relationship.\n",
    "\n",
    "To see how the model adapts to different data, feel free to:\n",
    "- adjust or remove the ```random_state``` parameter to generate new data on each run\n",
    "- uncomment the line ```y = -y``` to invert the target values and observe the model's handling of negative relationships"
   ]
  },
  {
   "cell_type": "code",
   "execution_count": 230,
   "id": "90b23835",
   "metadata": {},
   "outputs": [
    {
     "name": "stdout",
     "output_type": "stream",
     "text": [
      "intercept: -1.2212727405460868, coefficient(s): [42.73639301]\n"
     ]
    },
    {
     "data": {
      "image/png": "[encoded data removed]",
      "text/plain": [
       "<Figure size 640x480 with 1 Axes>"
      ]
     },
     "metadata": {},
     "output_type": "display_data"
    }
   ],
   "source": [
    "from sklearn.datasets import make_regression\n",
    "\n",
    "X, y = make_regression(n_samples=100, n_features=1, noise=15, random_state=0)\n",
    "# y = -y\n",
    "\n",
    "model = LinearRegressor()\n",
    "model.fit(X, y)\n",
    "print(f\"intercept: {model.intercept_}, coefficient(s): {model.coef_}\")\n",
    "\n",
    "plt.scatter(X, y, label=\"Actual Data\")\n",
    "plt.plot(X, model.predict(X), color=\"red\", label=\"Optimized Line with Gradient Descent\")\n",
    "plt.title(\"Linear Regression With Gradient Descent\")\n",
    "plt.legend()\n",
    "plt.xlabel(\"x\")\n",
    "plt.ylabel(\"y\")\n",
    "plt.show()"
   ]
  },
  {
   "cell_type": "markdown",
   "id": "f17eab2c",
   "metadata": {},
   "source": [
    "We can also test the model on the ```sklearn``` California Housing dataset."
   ]
  },
  {
   "cell_type": "code",
   "execution_count": 231,
   "id": "9f53d250",
   "metadata": {},
   "outputs": [
    {
     "data": {
      "text/html": [
       "<div>\n",
       "<style scoped>\n",
       "    .dataframe tbody tr th:only-of-type {\n",
       "        vertical-align: middle;\n",
       "    }\n",
       "\n",
       "    .dataframe tbody tr th {\n",
       "        vertical-align: top;\n",
       "    }\n",
       "\n",
       "    .dataframe thead th {\n",
       "        text-align: right;\n",
       "    }\n",
       "</style>\n",
       "<table border=\"1\" class=\"dataframe\">\n",
       "  <thead>\n",
       "    <tr style=\"text-align: right;\">\n",
       "      <th></th>\n",
       "      <th>MedInc</th>\n",
       "      <th>HouseAge</th>\n",
       "      <th>AveRooms</th>\n",
       "      <th>AveBedrms</th>\n",
       "      <th>Population</th>\n",
       "      <th>AveOccup</th>\n",
       "      <th>Latitude</th>\n",
       "      <th>Longitude</th>\n",
       "      <th>MedHouseVal</th>\n",
       "    </tr>\n",
       "  </thead>\n",
       "  <tbody>\n",
       "    <tr>\n",
       "      <th>0</th>\n",
       "      <td>8.3252</td>\n",
       "      <td>41.0</td>\n",
       "      <td>6.984127</td>\n",
       "      <td>1.023810</td>\n",
       "      <td>322.0</td>\n",
       "      <td>2.555556</td>\n",
       "      <td>37.88</td>\n",
       "      <td>-122.23</td>\n",
       "      <td>4.526</td>\n",
       "    </tr>\n",
       "    <tr>\n",
       "      <th>1</th>\n",
       "      <td>8.3014</td>\n",
       "      <td>21.0</td>\n",
       "      <td>6.238137</td>\n",
       "      <td>0.971880</td>\n",
       "      <td>2401.0</td>\n",
       "      <td>2.109842</td>\n",
       "      <td>37.86</td>\n",
       "      <td>-122.22</td>\n",
       "      <td>3.585</td>\n",
       "    </tr>\n",
       "    <tr>\n",
       "      <th>2</th>\n",
       "      <td>7.2574</td>\n",
       "      <td>52.0</td>\n",
       "      <td>8.288136</td>\n",
       "      <td>1.073446</td>\n",
       "      <td>496.0</td>\n",
       "      <td>2.802260</td>\n",
       "      <td>37.85</td>\n",
       "      <td>-122.24</td>\n",
       "      <td>3.521</td>\n",
       "    </tr>\n",
       "    <tr>\n",
       "      <th>3</th>\n",
       "      <td>5.6431</td>\n",
       "      <td>52.0</td>\n",
       "      <td>5.817352</td>\n",
       "      <td>1.073059</td>\n",
       "      <td>558.0</td>\n",
       "      <td>2.547945</td>\n",
       "      <td>37.85</td>\n",
       "      <td>-122.25</td>\n",
       "      <td>3.413</td>\n",
       "    </tr>\n",
       "    <tr>\n",
       "      <th>4</th>\n",
       "      <td>3.8462</td>\n",
       "      <td>52.0</td>\n",
       "      <td>6.281853</td>\n",
       "      <td>1.081081</td>\n",
       "      <td>565.0</td>\n",
       "      <td>2.181467</td>\n",
       "      <td>37.85</td>\n",
       "      <td>-122.25</td>\n",
       "      <td>3.422</td>\n",
       "    </tr>\n",
       "    <tr>\n",
       "      <th>5</th>\n",
       "      <td>4.0368</td>\n",
       "      <td>52.0</td>\n",
       "      <td>4.761658</td>\n",
       "      <td>1.103627</td>\n",
       "      <td>413.0</td>\n",
       "      <td>2.139896</td>\n",
       "      <td>37.85</td>\n",
       "      <td>-122.25</td>\n",
       "      <td>2.697</td>\n",
       "    </tr>\n",
       "    <tr>\n",
       "      <th>6</th>\n",
       "      <td>3.6591</td>\n",
       "      <td>52.0</td>\n",
       "      <td>4.931907</td>\n",
       "      <td>0.951362</td>\n",
       "      <td>1094.0</td>\n",
       "      <td>2.128405</td>\n",
       "      <td>37.84</td>\n",
       "      <td>-122.25</td>\n",
       "      <td>2.992</td>\n",
       "    </tr>\n",
       "    <tr>\n",
       "      <th>7</th>\n",
       "      <td>3.1200</td>\n",
       "      <td>52.0</td>\n",
       "      <td>4.797527</td>\n",
       "      <td>1.061824</td>\n",
       "      <td>1157.0</td>\n",
       "      <td>1.788253</td>\n",
       "      <td>37.84</td>\n",
       "      <td>-122.25</td>\n",
       "      <td>2.414</td>\n",
       "    </tr>\n",
       "    <tr>\n",
       "      <th>8</th>\n",
       "      <td>2.0804</td>\n",
       "      <td>42.0</td>\n",
       "      <td>4.294118</td>\n",
       "      <td>1.117647</td>\n",
       "      <td>1206.0</td>\n",
       "      <td>2.026891</td>\n",
       "      <td>37.84</td>\n",
       "      <td>-122.26</td>\n",
       "      <td>2.267</td>\n",
       "    </tr>\n",
       "    <tr>\n",
       "      <th>9</th>\n",
       "      <td>3.6912</td>\n",
       "      <td>52.0</td>\n",
       "      <td>4.970588</td>\n",
       "      <td>0.990196</td>\n",
       "      <td>1551.0</td>\n",
       "      <td>2.172269</td>\n",
       "      <td>37.84</td>\n",
       "      <td>-122.25</td>\n",
       "      <td>2.611</td>\n",
       "    </tr>\n",
       "  </tbody>\n",
       "</table>\n",
       "</div>"
      ],
      "text/plain": [
       "   MedInc  HouseAge  AveRooms  AveBedrms  Population  AveOccup  Latitude  \\\n",
       "0  8.3252      41.0  6.984127   1.023810       322.0  2.555556     37.88   \n",
       "1  8.3014      21.0  6.238137   0.971880      2401.0  2.109842     37.86   \n",
       "2  7.2574      52.0  8.288136   1.073446       496.0  2.802260     37.85   \n",
       "3  5.6431      52.0  5.817352   1.073059       558.0  2.547945     37.85   \n",
       "4  3.8462      52.0  6.281853   1.081081       565.0  2.181467     37.85   \n",
       "5  4.0368      52.0  4.761658   1.103627       413.0  2.139896     37.85   \n",
       "6  3.6591      52.0  4.931907   0.951362      1094.0  2.128405     37.84   \n",
       "7  3.1200      52.0  4.797527   1.061824      1157.0  1.788253     37.84   \n",
       "8  2.0804      42.0  4.294118   1.117647      1206.0  2.026891     37.84   \n",
       "9  3.6912      52.0  4.970588   0.990196      1551.0  2.172269     37.84   \n",
       "\n",
       "   Longitude  MedHouseVal  \n",
       "0    -122.23        4.526  \n",
       "1    -122.22        3.585  \n",
       "2    -122.24        3.521  \n",
       "3    -122.25        3.413  \n",
       "4    -122.25        3.422  \n",
       "5    -122.25        2.697  \n",
       "6    -122.25        2.992  \n",
       "7    -122.25        2.414  \n",
       "8    -122.26        2.267  \n",
       "9    -122.25        2.611  "
      ]
     },
     "execution_count": 231,
     "metadata": {},
     "output_type": "execute_result"
    }
   ],
   "source": [
    "from sklearn.datasets import fetch_california_housing\n",
    "\n",
    "X, y = fetch_california_housing(return_X_y=True)\n",
    "\n",
    "housing = fetch_california_housing(as_frame=True)\n",
    "housing.frame.head(10)"
   ]
  },
  {
   "cell_type": "markdown",
   "id": "bb058d49",
   "metadata": {},
   "source": [
    "However, this dataset contains features with widely varying scales, particularly the ```Population``` feature:"
   ]
  },
  {
   "cell_type": "code",
   "execution_count": 232,
   "id": "1ec94020",
   "metadata": {},
   "outputs": [
    {
     "data": {
      "image/png": "[encoded data removed]",
      "text/plain": [
       "<Figure size 1400x600 with 1 Axes>"
      ]
     },
     "metadata": {},
     "output_type": "display_data"
    }
   ],
   "source": [
    "import seaborn as sns\n",
    "\n",
    "plt.figure(figsize=(14,6))\n",
    "sns.violinplot(data=housing.frame)\n",
    "plt.show()"
   ]
  },
  {
   "cell_type": "markdown",
   "id": "6aab6afa",
   "metadata": {},
   "source": [
    "This calls for standardizing the features before feeding them to the model (to prevent issues such as exploding gradients), alongside back-transforming the coefficients afterward for interpretability."
   ]
  },
  {
   "cell_type": "code",
   "execution_count": 233,
   "id": "3b3c59ab",
   "metadata": {},
   "outputs": [
    {
     "name": "stdout",
     "output_type": "stream",
     "text": [
      "intercept: -36.81982866966164, coefficient(s): [ 4.37340684e-01  9.45688983e-03 -1.08234712e-01  6.48944871e-01\n",
      " -3.90513375e-06 -3.79123174e-03 -4.19866848e-01 -4.33040416e-01]\n"
     ]
    }
   ],
   "source": [
    "from sklearn.preprocessing import StandardScaler\n",
    "\n",
    "# scaling\n",
    "scaler = StandardScaler()\n",
    "X_scaled = scaler.fit_transform(X)\n",
    "\n",
    "model = LinearRegressor()\n",
    "model.fit(X_scaled, y)\n",
    "\n",
    "# back-transforming\n",
    "coef_original = model.coef_ / scaler.scale_\n",
    "intercept_original = model.intercept_ - np.sum((scaler.mean_ / scaler.scale_) * model.coef_)\n",
    "\n",
    "print(f\"intercept: {intercept_original}, coefficient(s): {coef_original}\")"
   ]
  },
  {
   "cell_type": "markdown",
   "id": "183a0ea6",
   "metadata": {},
   "source": [
    "The equation modeled is approximately $y = 0.437a + 0.00946b - 0.108c + 0.649d - 0.00000391e - 0.00379f - 0.420g - 0.433h - 36.82$, where:\n",
    "- $y$ is the predicted median house value (in units of $100,000) for a block group,\n",
    "- $a$ is the median household income (in units of $10,000) in the block group,\n",
    "- $b$ is the average house age (in years) in the block group,\n",
    "- $c$ is average number of rooms per household,\n",
    "- $d$ is average number of bedrooms per household,\n",
    "- $e$ is the total population of the block group,\n",
    "- $f$ is the average number of household members,\n",
    "- $g$ and $h$ are the latitude and longitude coordinates of the block group centroid.\n",
    "\n",
    "The coefficients suggest that household income, number of bedrooms per household, and the block group's geographic location (particularly its proximity to California's southwest coast) are relatively significant factors in predicting median house value.\n",
    "\n",
    "For a mere linear regressor, the model provides decent ballpark estimates of median house values (in units of $100,000) for the block group samples in the dataset:"
   ]
  },
  {
   "cell_type": "code",
   "execution_count": 256,
   "id": "7d360c3d",
   "metadata": {},
   "outputs": [
    {
     "name": "stdout",
     "output_type": "stream",
     "text": [
      "For block group index 0, predicted value y = 4.13235114191446 should approximate real value 4.526\n",
      "For block group index 1, predicted value y = 3.9774855239402833 should approximate real value 3.585\n",
      "For block group index 2, predicted value y = 3.6757687037808893 should approximate real value 3.521\n",
      "For block group index 3, predicted value y = 3.241995562187955 should approximate real value 3.413\n",
      "For block group index 4, predicted value y = 2.4124306022061512 should approximate real value 3.422\n",
      "For block group index 5, predicted value y = 2.67570783776581 should approximate real value 2.697\n",
      "For block group index 6, predicted value y = 2.3948686553830703 should approximate real value 2.992\n",
      "For block group index 7, predicted value y = 2.2463701005491545 should approximate real value 2.414\n",
      "For block group index 8, predicted value y = 1.7910887377225735 should approximate real value 2.267\n",
      "For block group index 9, predicted value y = 2.4279709135584686 should approximate real value 2.611\n"
     ]
    }
   ],
   "source": [
    "for i in range(10):\n",
    "    predicted_y = model.predict(X_scaled[i])\n",
    "    print(f\"For block group index {i}, predicted value y = {predicted_y} should approximate real value {y[i]}\")"
   ]
  },
  {
   "cell_type": "markdown",
   "id": "ab3f8f17",
   "metadata": {},
   "source": [
    "### Summary\n",
    "This project saw the implementation of a linear regression model from scratch using gradient descent. The model was tested on both synthetic data and the real-world California Housing dataset. Despite its simplicity, the model was able to provide reasonable predictions of median house values and identified underlying relationships between the target and features such as household income, bedroom count, and geographic location."
   ]
  }
 ],
 "metadata": {
  "kernelspec": {
   "display_name": "Python 3",
   "language": "python",
   "name": "python3"
  },
  "language_info": {
   "codemirror_mode": {
    "name": "ipython",
    "version": 3
   },
   "file_extension": ".py",
   "mimetype": "text/x-python",
   "name": "python",
   "nbconvert_exporter": "python",
   "pygments_lexer": "ipython3",
   "version": "3.11.9"
  }
 },
 "nbformat": 4,
 "nbformat_minor": 5
}
